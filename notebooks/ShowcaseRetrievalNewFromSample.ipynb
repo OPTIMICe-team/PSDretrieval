{
 "cells": [
  {
   "cell_type": "markdown",
   "metadata": {},
   "source": [
    "# Show some basics and options for the retrieval\n",
    "This notebooks reads a sample spectra and illustrates the retrieval of the PSD similar to Barret et al. (2019) and some sensitivities for the particle properties"
   ]
  },
  {
   "cell_type": "code",
   "execution_count": null,
   "metadata": {},
   "outputs": [],
   "source": [
    "from PSDretrieval import processRadar as pR\n",
    "from PSDretrieval import plotting as pl\n",
    "from PSDretrieval import scattering as sc\n",
    "from PSDretrieval import retrievalUtils as rU\n",
    "import snowScatt\n",
    "import matplotlib.pyplot as plt\n",
    "import numpy as np"
   ]
  },
  {
   "cell_type": "code",
   "execution_count": null,
   "metadata": {},
   "outputs": [],
   "source": [
    "#define time\n",
    "date = \"20190113\"\n",
    "time = \"06:18:04\"\n",
    "hcenter=1600 #[m]\n",
    "#load sample data (this is a window of time and height, which can define by additional input parameters)\n",
    "SpecWindow  = pR.loadSpectra(date=date,time=time,hcenter=hcenter)\n",
    "#load the single spectra\n",
    "SpecSingle  = pR.selectSingleTimeHeight(SpecWindow)\n",
    "#load detected peaks from processed file\n",
    "PeaksWindow  = pR.loadPeaks()"
   ]
  },
  {
   "cell_type": "markdown",
   "metadata": {},
   "source": [
    "## plot the sample spectrum"
   ]
  },
  {
   "cell_type": "code",
   "execution_count": null,
   "metadata": {},
   "outputs": [],
   "source": [
    "fig,ax = plt.subplots(nrows=1,ncols=1)\n",
    "ax = pl.plotObsSpectra(SpecSingle,ax)"
   ]
  },
  {
   "cell_type": "markdown",
   "metadata": {},
   "source": [
    "## get the vertical wind estimate"
   ]
  },
  {
   "cell_type": "code",
   "execution_count": null,
   "metadata": {},
   "outputs": [],
   "source": [
    "#add vertical wind information to \n",
    "SpecWindow = pR.addVerticalWindToSpecWindow(SpecWindow,PeaksWindow)\n",
    "#extract a single spectra from the time-height window (no with the W-information)\n",
    "SpecSingle  = pR.selectSingleTimeHeight(SpecWindow)\n",
    "#get again the - now shifted - single spectra from the SpecWindow \n",
    "SpecSingleWshifted  = pR.shiftSpectra(SpecSingle)"
   ]
  },
  {
   "cell_type": "markdown",
   "metadata": {},
   "source": [
    "## plot W-shifted spectra"
   ]
  },
  {
   "cell_type": "code",
   "execution_count": null,
   "metadata": {},
   "outputs": [],
   "source": [
    "fig,ax = plt.subplots(nrows=1,ncols=1)\n",
    "ax = pl.plotObsSpectra(SpecSingleWshifted,ax)"
   ]
  },
  {
   "cell_type": "markdown",
   "metadata": {},
   "source": [
    "## cut noisy part and plot spectra again"
   ]
  },
  {
   "cell_type": "code",
   "execution_count": null,
   "metadata": {},
   "outputs": [],
   "source": [
    "fig,ax = plt.subplots(nrows=1,ncols=1)\n",
    "#cut spectra\n",
    "SpecWindow = pR.cutLowZe(SpecWindow,zeThreshold=-20)\n",
    "SpecSingleWshiftedCut = pR.cutLowZe(SpecSingleWshifted,zeThreshold=-20)\n",
    "ax = pl.plotObsSpectra(SpecSingleWshiftedCut,ax)"
   ]
  },
  {
   "cell_type": "markdown",
   "metadata": {},
   "source": [
    "## plot single-spectra DV vs. DWR"
   ]
  },
  {
   "cell_type": "code",
   "execution_count": null,
   "metadata": {},
   "outputs": [],
   "source": [
    "fig2,axes2 = plt.subplots(nrows=1,ncols=2,figsize=(20,10))\n",
    "__ = pl.plotSDWRvsDVobs(SpecSingleWshiftedCut,axes2)"
   ]
  },
  {
   "cell_type": "markdown",
   "metadata": {},
   "source": [
    "## plot average DV vs. DWR from time-height window"
   ]
  },
  {
   "cell_type": "code",
   "execution_count": null,
   "metadata": {},
   "outputs": [],
   "source": [
    "fig2,axes2 = plt.subplots(nrows=1,ncols=2,figsize=(20,10))\n",
    "__ = pl.plotSDWRvsDVobs(SpecWindow,axes2)"
   ]
  },
  {
   "cell_type": "markdown",
   "metadata": {},
   "source": [
    "## how do the snowscatt models fit to the observed DV-DWR relation"
   ]
  },
  {
   "cell_type": "markdown",
   "metadata": {},
   "source": [
    "### mixcoldend with all riming degrees"
   ]
  },
  {
   "cell_type": "code",
   "execution_count": null,
   "metadata": {},
   "outputs": [],
   "source": [
    "fig2,axes2 = plt.subplots(nrows=1,ncols=2,figsize=(20,10))\n",
    "axes2 = pl.plotSDWRvsDVobs(SpecWindow,axes2)\n",
    "#get names of all particle types\n",
    "allParticleTypes        = [*snowScatt.snowLibrary._fileList.keys()]\n",
    "#select an aggregate type\n",
    "aggType = 'vonTerzi_mixcoldend'\n",
    "#get a list of all particle-type names from this aggregate type with different riming degrees\n",
    "allRimDegr = [k for k in allParticleTypes if aggType in k]\n",
    "for pType in allRimDegr:\n",
    "    #get spectral-resolved particle properties\n",
    "    Zx, Zk, Zw, Dmax, K2, vel = sc.model3fOne(pType)\n",
    "    #calculate spectral DWRs\n",
    "    DWRxk = Zx-Zk; DWRkw = Zk-Zw\n",
    "    axes2 = pl.plotSDWRvsDVmodel(vel,DWRxk,DWRkw,axes2,pType)\n",
    "axes2[0].legend()"
   ]
  },
  {
   "cell_type": "markdown",
   "metadata": {},
   "source": [
    "### all unrimed vonTerzis'"
   ]
  },
  {
   "cell_type": "code",
   "execution_count": null,
   "metadata": {},
   "outputs": [],
   "source": [
    "fig2,axes2 = plt.subplots(nrows=1,ncols=2,figsize=(20,10))\n",
    "allParticleTypes        = [*snowScatt.snowLibrary._fileList.keys()]\n",
    "axes2 = pl.plotSDWRvsDVobs(SpecWindow,axes2)\n",
    "allUnrimVT = [k for k in allParticleTypes if (\"vonTerzi_\" in k and not \"rimed\" in k)]\n",
    "for pType in allUnrimVT:\n",
    "    #get spectral-resolved particle properties\n",
    "    Zx, Zk, Zw, Dmax, K2, vel = sc.model3fOne(pType)\n",
    "    #calculate spectral DWRs\n",
    "    DWRxk = Zx-Zk; DWRkw = Zk-Zw\n",
    "    axes2 = pl.plotSDWRvsDVmodel(vel,DWRxk,DWRkw,axes2,pType)\n",
    "axes2[0].legend()"
   ]
  },
  {
   "cell_type": "code",
   "execution_count": null,
   "metadata": {},
   "outputs": [],
   "source": [
    "### all Leinonens' and Ori"
   ]
  },
  {
   "cell_type": "code",
   "execution_count": null,
   "metadata": {},
   "outputs": [],
   "source": [
    "fig2,axes2 = plt.subplots(nrows=1,ncols=2,figsize=(20,10))\n",
    "allParticleTypes        = [*snowScatt.snowLibrary._fileList.keys()]\n",
    "axes2 = pl.plotSDWRvsDVobs(SpecWindow,axes2)\n",
    "allUnrimVT = [k for k in allParticleTypes if (\"Leinonen\" in k or \"Ori\" in k)]\n",
    "for pType in allUnrimVT:\n",
    "    #get spectral-resolved particle properties\n",
    "    Zx, Zk, Zw, Dmax, K2, vel = sc.model3fOne(pType)\n",
    "    #calculate spectral DWRs\n",
    "    DWRxk = Zx-Zk; DWRkw = Zk-Zw\n",
    "    axes2 = pl.plotSDWRvsDVmodel(vel,DWRxk,DWRkw,axes2,pType)\n",
    "axes2[0].legend()"
   ]
  },
  {
   "cell_type": "code",
   "execution_count": null,
   "metadata": {},
   "outputs": [],
   "source": [
    "### find best fitting particle type"
   ]
  },
  {
   "cell_type": "code",
   "execution_count": null,
   "metadata": {},
   "outputs": [],
   "source": [
    "#find best fitting particle type\n",
    "#ParticleTypeList = [*snowScatt.snowLibrary._fileList.keys()] #read https://www.python.org/dev/peps/pep-0448/ for the [*...] formalism\n",
    "ParticleTypeList = [k for k in allParticleTypes if 'vonTerzi_mixcoldend' in k]\n",
    "#ParticleTypeList = [\"vonTerzi_mixcoldend\",\"vonTerzi_mixcoldend_rimed05\"]\n",
    "[bestPartType,orderedListPartType] = rU.findBestFittingPartType(ParticleTypeList,SpecWindow)"
   ]
  },
  {
   "cell_type": "code",
   "execution_count": null,
   "metadata": {},
   "outputs": [],
   "source": []
  }
 ],
 "metadata": {
  "kernelspec": {
   "display_name": "Python 3",
   "language": "python",
   "name": "python3"
  },
  "language_info": {
   "codemirror_mode": {
    "name": "ipython",
    "version": 3
   },
   "file_extension": ".py",
   "mimetype": "text/x-python",
   "name": "python",
   "nbconvert_exporter": "python",
   "pygments_lexer": "ipython3",
   "version": "3.8.10"
  }
 },
 "nbformat": 4,
 "nbformat_minor": 4
}

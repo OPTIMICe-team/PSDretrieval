{
 "cells": [
  {
   "cell_type": "markdown",
   "metadata": {},
   "source": [
    "# Show some basics and options for the retrieval\n",
    "This notebooks reads a sample spectra and illustrates the retrieval from Barret et al. (2019) and some sensitivities for the particle properties"
   ]
  },
  {
   "cell_type": "code",
   "execution_count": 1,
   "metadata": {},
   "outputs": [],
   "source": [
    "from PSDretrieval import processRadar as pR\n",
    "from PSDretrieval import plotting as pl\n",
    "from PSDretrieval import scattering as sc\n",
    "from PSDretrieval import retrievalUtils as rU\n",
    "import snowScatt\n",
    "import matplotlib.pyplot as plt\n",
    "import numpy as np"
   ]
  },
  {
   "cell_type": "code",
   "execution_count": 2,
   "metadata": {},
   "outputs": [],
   "source": [
    "SpecWindow = pR.loadSpectra(loadSample=True) #load sample spectra (window of several heights and time steps)\n",
    "SpecSingle  = pR.selectSingleTimeHeight(SpecWindow)"
   ]
  },
  {
   "cell_type": "code",
   "execution_count": 3,
   "metadata": {},
   "outputs": [
    {
     "data": {
      "text/html": [
       "<div><svg style=\"position: absolute; width: 0; height: 0; overflow: hidden\">\n",
       "<defs>\n",
       "<symbol id=\"icon-database\" viewBox=\"0 0 32 32\">\n",
       "<path d=\"M16 0c-8.837 0-16 2.239-16 5v4c0 2.761 7.163 5 16 5s16-2.239 16-5v-4c0-2.761-7.163-5-16-5z\"></path>\n",
       "<path d=\"M16 17c-8.837 0-16-2.239-16-5v6c0 2.761 7.163 5 16 5s16-2.239 16-5v-6c0 2.761-7.163 5-16 5z\"></path>\n",
       "<path d=\"M16 26c-8.837 0-16-2.239-16-5v6c0 2.761 7.163 5 16 5s16-2.239 16-5v-6c0 2.761-7.163 5-16 5z\"></path>\n",
       "</symbol>\n",
       "<symbol id=\"icon-file-text2\" viewBox=\"0 0 32 32\">\n",
       "<path d=\"M28.681 7.159c-0.694-0.947-1.662-2.053-2.724-3.116s-2.169-2.030-3.116-2.724c-1.612-1.182-2.393-1.319-2.841-1.319h-15.5c-1.378 0-2.5 1.121-2.5 2.5v27c0 1.378 1.122 2.5 2.5 2.5h23c1.378 0 2.5-1.122 2.5-2.5v-19.5c0-0.448-0.137-1.23-1.319-2.841zM24.543 5.457c0.959 0.959 1.712 1.825 2.268 2.543h-4.811v-4.811c0.718 0.556 1.584 1.309 2.543 2.268zM28 29.5c0 0.271-0.229 0.5-0.5 0.5h-23c-0.271 0-0.5-0.229-0.5-0.5v-27c0-0.271 0.229-0.5 0.5-0.5 0 0 15.499-0 15.5 0v7c0 0.552 0.448 1 1 1h7v19.5z\"></path>\n",
       "<path d=\"M23 26h-14c-0.552 0-1-0.448-1-1s0.448-1 1-1h14c0.552 0 1 0.448 1 1s-0.448 1-1 1z\"></path>\n",
       "<path d=\"M23 22h-14c-0.552 0-1-0.448-1-1s0.448-1 1-1h14c0.552 0 1 0.448 1 1s-0.448 1-1 1z\"></path>\n",
       "<path d=\"M23 18h-14c-0.552 0-1-0.448-1-1s0.448-1 1-1h14c0.552 0 1 0.448 1 1s-0.448 1-1 1z\"></path>\n",
       "</symbol>\n",
       "</defs>\n",
       "</svg>\n",
       "<style>/* CSS stylesheet for displaying xarray objects in jupyterlab.\n",
       " *\n",
       " */\n",
       "\n",
       ":root {\n",
       "  --xr-font-color0: var(--jp-content-font-color0, rgba(0, 0, 0, 1));\n",
       "  --xr-font-color2: var(--jp-content-font-color2, rgba(0, 0, 0, 0.54));\n",
       "  --xr-font-color3: var(--jp-content-font-color3, rgba(0, 0, 0, 0.38));\n",
       "  --xr-border-color: var(--jp-border-color2, #e0e0e0);\n",
       "  --xr-disabled-color: var(--jp-layout-color3, #bdbdbd);\n",
       "  --xr-background-color: var(--jp-layout-color0, white);\n",
       "  --xr-background-color-row-even: var(--jp-layout-color1, white);\n",
       "  --xr-background-color-row-odd: var(--jp-layout-color2, #eeeeee);\n",
       "}\n",
       "\n",
       "html[theme=dark],\n",
       "body.vscode-dark {\n",
       "  --xr-font-color0: rgba(255, 255, 255, 1);\n",
       "  --xr-font-color2: rgba(255, 255, 255, 0.54);\n",
       "  --xr-font-color3: rgba(255, 255, 255, 0.38);\n",
       "  --xr-border-color: #1F1F1F;\n",
       "  --xr-disabled-color: #515151;\n",
       "  --xr-background-color: #111111;\n",
       "  --xr-background-color-row-even: #111111;\n",
       "  --xr-background-color-row-odd: #313131;\n",
       "}\n",
       "\n",
       ".xr-wrap {\n",
       "  display: block;\n",
       "  min-width: 300px;\n",
       "  max-width: 700px;\n",
       "}\n",
       "\n",
       ".xr-text-repr-fallback {\n",
       "  /* fallback to plain text repr when CSS is not injected (untrusted notebook) */\n",
       "  display: none;\n",
       "}\n",
       "\n",
       ".xr-header {\n",
       "  padding-top: 6px;\n",
       "  padding-bottom: 6px;\n",
       "  margin-bottom: 4px;\n",
       "  border-bottom: solid 1px var(--xr-border-color);\n",
       "}\n",
       "\n",
       ".xr-header > div,\n",
       ".xr-header > ul {\n",
       "  display: inline;\n",
       "  margin-top: 0;\n",
       "  margin-bottom: 0;\n",
       "}\n",
       "\n",
       ".xr-obj-type,\n",
       ".xr-array-name {\n",
       "  margin-left: 2px;\n",
       "  margin-right: 10px;\n",
       "}\n",
       "\n",
       ".xr-obj-type {\n",
       "  color: var(--xr-font-color2);\n",
       "}\n",
       "\n",
       ".xr-sections {\n",
       "  padding-left: 0 !important;\n",
       "  display: grid;\n",
       "  grid-template-columns: 150px auto auto 1fr 20px 20px;\n",
       "}\n",
       "\n",
       ".xr-section-item {\n",
       "  display: contents;\n",
       "}\n",
       "\n",
       ".xr-section-item input {\n",
       "  display: none;\n",
       "}\n",
       "\n",
       ".xr-section-item input + label {\n",
       "  color: var(--xr-disabled-color);\n",
       "}\n",
       "\n",
       ".xr-section-item input:enabled + label {\n",
       "  cursor: pointer;\n",
       "  color: var(--xr-font-color2);\n",
       "}\n",
       "\n",
       ".xr-section-item input:enabled + label:hover {\n",
       "  color: var(--xr-font-color0);\n",
       "}\n",
       "\n",
       ".xr-section-summary {\n",
       "  grid-column: 1;\n",
       "  color: var(--xr-font-color2);\n",
       "  font-weight: 500;\n",
       "}\n",
       "\n",
       ".xr-section-summary > span {\n",
       "  display: inline-block;\n",
       "  padding-left: 0.5em;\n",
       "}\n",
       "\n",
       ".xr-section-summary-in:disabled + label {\n",
       "  color: var(--xr-font-color2);\n",
       "}\n",
       "\n",
       ".xr-section-summary-in + label:before {\n",
       "  display: inline-block;\n",
       "  content: '►';\n",
       "  font-size: 11px;\n",
       "  width: 15px;\n",
       "  text-align: center;\n",
       "}\n",
       "\n",
       ".xr-section-summary-in:disabled + label:before {\n",
       "  color: var(--xr-disabled-color);\n",
       "}\n",
       "\n",
       ".xr-section-summary-in:checked + label:before {\n",
       "  content: '▼';\n",
       "}\n",
       "\n",
       ".xr-section-summary-in:checked + label > span {\n",
       "  display: none;\n",
       "}\n",
       "\n",
       ".xr-section-summary,\n",
       ".xr-section-inline-details {\n",
       "  padding-top: 4px;\n",
       "  padding-bottom: 4px;\n",
       "}\n",
       "\n",
       ".xr-section-inline-details {\n",
       "  grid-column: 2 / -1;\n",
       "}\n",
       "\n",
       ".xr-section-details {\n",
       "  display: none;\n",
       "  grid-column: 1 / -1;\n",
       "  margin-bottom: 5px;\n",
       "}\n",
       "\n",
       ".xr-section-summary-in:checked ~ .xr-section-details {\n",
       "  display: contents;\n",
       "}\n",
       "\n",
       ".xr-array-wrap {\n",
       "  grid-column: 1 / -1;\n",
       "  display: grid;\n",
       "  grid-template-columns: 20px auto;\n",
       "}\n",
       "\n",
       ".xr-array-wrap > label {\n",
       "  grid-column: 1;\n",
       "  vertical-align: top;\n",
       "}\n",
       "\n",
       ".xr-preview {\n",
       "  color: var(--xr-font-color3);\n",
       "}\n",
       "\n",
       ".xr-array-preview,\n",
       ".xr-array-data {\n",
       "  padding: 0 5px !important;\n",
       "  grid-column: 2;\n",
       "}\n",
       "\n",
       ".xr-array-data,\n",
       ".xr-array-in:checked ~ .xr-array-preview {\n",
       "  display: none;\n",
       "}\n",
       "\n",
       ".xr-array-in:checked ~ .xr-array-data,\n",
       ".xr-array-preview {\n",
       "  display: inline-block;\n",
       "}\n",
       "\n",
       ".xr-dim-list {\n",
       "  display: inline-block !important;\n",
       "  list-style: none;\n",
       "  padding: 0 !important;\n",
       "  margin: 0;\n",
       "}\n",
       "\n",
       ".xr-dim-list li {\n",
       "  display: inline-block;\n",
       "  padding: 0;\n",
       "  margin: 0;\n",
       "}\n",
       "\n",
       ".xr-dim-list:before {\n",
       "  content: '(';\n",
       "}\n",
       "\n",
       ".xr-dim-list:after {\n",
       "  content: ')';\n",
       "}\n",
       "\n",
       ".xr-dim-list li:not(:last-child):after {\n",
       "  content: ',';\n",
       "  padding-right: 5px;\n",
       "}\n",
       "\n",
       ".xr-has-index {\n",
       "  font-weight: bold;\n",
       "}\n",
       "\n",
       ".xr-var-list,\n",
       ".xr-var-item {\n",
       "  display: contents;\n",
       "}\n",
       "\n",
       ".xr-var-item > div,\n",
       ".xr-var-item label,\n",
       ".xr-var-item > .xr-var-name span {\n",
       "  background-color: var(--xr-background-color-row-even);\n",
       "  margin-bottom: 0;\n",
       "}\n",
       "\n",
       ".xr-var-item > .xr-var-name:hover span {\n",
       "  padding-right: 5px;\n",
       "}\n",
       "\n",
       ".xr-var-list > li:nth-child(odd) > div,\n",
       ".xr-var-list > li:nth-child(odd) > label,\n",
       ".xr-var-list > li:nth-child(odd) > .xr-var-name span {\n",
       "  background-color: var(--xr-background-color-row-odd);\n",
       "}\n",
       "\n",
       ".xr-var-name {\n",
       "  grid-column: 1;\n",
       "}\n",
       "\n",
       ".xr-var-dims {\n",
       "  grid-column: 2;\n",
       "}\n",
       "\n",
       ".xr-var-dtype {\n",
       "  grid-column: 3;\n",
       "  text-align: right;\n",
       "  color: var(--xr-font-color2);\n",
       "}\n",
       "\n",
       ".xr-var-preview {\n",
       "  grid-column: 4;\n",
       "}\n",
       "\n",
       ".xr-var-name,\n",
       ".xr-var-dims,\n",
       ".xr-var-dtype,\n",
       ".xr-preview,\n",
       ".xr-attrs dt {\n",
       "  white-space: nowrap;\n",
       "  overflow: hidden;\n",
       "  text-overflow: ellipsis;\n",
       "  padding-right: 10px;\n",
       "}\n",
       "\n",
       ".xr-var-name:hover,\n",
       ".xr-var-dims:hover,\n",
       ".xr-var-dtype:hover,\n",
       ".xr-attrs dt:hover {\n",
       "  overflow: visible;\n",
       "  width: auto;\n",
       "  z-index: 1;\n",
       "}\n",
       "\n",
       ".xr-var-attrs,\n",
       ".xr-var-data {\n",
       "  display: none;\n",
       "  background-color: var(--xr-background-color) !important;\n",
       "  padding-bottom: 5px !important;\n",
       "}\n",
       "\n",
       ".xr-var-attrs-in:checked ~ .xr-var-attrs,\n",
       ".xr-var-data-in:checked ~ .xr-var-data {\n",
       "  display: block;\n",
       "}\n",
       "\n",
       ".xr-var-data > table {\n",
       "  float: right;\n",
       "}\n",
       "\n",
       ".xr-var-name span,\n",
       ".xr-var-data,\n",
       ".xr-attrs {\n",
       "  padding-left: 25px !important;\n",
       "}\n",
       "\n",
       ".xr-attrs,\n",
       ".xr-var-attrs,\n",
       ".xr-var-data {\n",
       "  grid-column: 1 / -1;\n",
       "}\n",
       "\n",
       "dl.xr-attrs {\n",
       "  padding: 0;\n",
       "  margin: 0;\n",
       "  display: grid;\n",
       "  grid-template-columns: 125px auto;\n",
       "}\n",
       "\n",
       ".xr-attrs dt,\n",
       ".xr-attrs dd {\n",
       "  padding: 0;\n",
       "  margin: 0;\n",
       "  float: left;\n",
       "  padding-right: 10px;\n",
       "  width: auto;\n",
       "}\n",
       "\n",
       ".xr-attrs dt {\n",
       "  font-weight: normal;\n",
       "  grid-column: 1;\n",
       "}\n",
       "\n",
       ".xr-attrs dt:hover span {\n",
       "  display: inline-block;\n",
       "  background: var(--xr-background-color);\n",
       "  padding-right: 10px;\n",
       "}\n",
       "\n",
       ".xr-attrs dd {\n",
       "  grid-column: 2;\n",
       "  white-space: pre-wrap;\n",
       "  word-break: break-all;\n",
       "}\n",
       "\n",
       ".xr-icon-database,\n",
       ".xr-icon-file-text2 {\n",
       "  display: inline-block;\n",
       "  vertical-align: middle;\n",
       "  width: 1em;\n",
       "  height: 1.5em !important;\n",
       "  stroke-width: 0;\n",
       "  stroke: currentColor;\n",
       "  fill: currentColor;\n",
       "}\n",
       "</style><pre class='xr-text-repr-fallback'>&lt;xarray.Dataset&gt;\n",
       "Dimensions:           (doppler: 250)\n",
       "Coordinates:\n",
       "    time              datetime64[ns] 2019-01-22T14:55:00\n",
       "    range             float32 1.008e+03\n",
       "  * doppler           (doppler) float64 -2.0 -1.99 -1.98 ... 0.47 0.48 0.49\n",
       "Data variables:\n",
       "    WSpecH            (doppler) float64 -50.31 -50.24 -50.12 ... nan nan nan\n",
       "    KaSpecH           (doppler) float64 -44.76 -44.71 -44.66 ... nan nan nan\n",
       "    XSpecH            (doppler) float64 -41.17 -41.17 -41.17 ... nan nan nan\n",
       "    pa                float32 8.715e+04\n",
       "    XSpecHspecNoise   float32 -46.73\n",
       "    KaSpecHspecNoise  float32 -46.63\n",
       "    DWR_X_Ka          (doppler) float64 3.593 3.542 3.497 3.458 ... nan nan nan\n",
       "    DWR_Ka_W          (doppler) float64 5.549 5.527 5.461 5.366 ... nan nan nan</pre><div class='xr-wrap' hidden><div class='xr-header'><div class='xr-obj-type'>xarray.Dataset</div></div><ul class='xr-sections'><li class='xr-section-item'><input id='section-ec83f9f0-43ec-47b6-93a7-f1f556fc7891' class='xr-section-summary-in' type='checkbox' disabled ><label for='section-ec83f9f0-43ec-47b6-93a7-f1f556fc7891' class='xr-section-summary'  title='Expand/collapse section'>Dimensions:</label><div class='xr-section-inline-details'><ul class='xr-dim-list'><li><span class='xr-has-index'>doppler</span>: 250</li></ul></div><div class='xr-section-details'></div></li><li class='xr-section-item'><input id='section-bff2bc3e-3282-43f8-bba6-47932a9c0f0e' class='xr-section-summary-in' type='checkbox'  checked><label for='section-bff2bc3e-3282-43f8-bba6-47932a9c0f0e' class='xr-section-summary' >Coordinates: <span>(3)</span></label><div class='xr-section-inline-details'></div><div class='xr-section-details'><ul class='xr-var-list'><li class='xr-var-item'><div class='xr-var-name'><span>time</span></div><div class='xr-var-dims'>()</div><div class='xr-var-dtype'>datetime64[ns]</div><div class='xr-var-preview xr-preview'>2019-01-22T14:55:00</div><input id='attrs-3dfdf167-81e8-4531-ac86-cbee71a5ab3e' class='xr-var-attrs-in' type='checkbox' disabled><label for='attrs-3dfdf167-81e8-4531-ac86-cbee71a5ab3e' title='Show/Hide attributes'><svg class='icon xr-icon-file-text2'><use xlink:href='#icon-file-text2'></use></svg></label><input id='data-6e533e61-8550-43b7-b6d5-45273f3f4ee2' class='xr-var-data-in' type='checkbox'><label for='data-6e533e61-8550-43b7-b6d5-45273f3f4ee2' title='Show/Hide data repr'><svg class='icon xr-icon-database'><use xlink:href='#icon-database'></use></svg></label><div class='xr-var-attrs'><dl class='xr-attrs'></dl></div><div class='xr-var-data'><pre>array(&#x27;2019-01-22T14:55:00.000000000&#x27;, dtype=&#x27;datetime64[ns]&#x27;)</pre></div></li><li class='xr-var-item'><div class='xr-var-name'><span>range</span></div><div class='xr-var-dims'>()</div><div class='xr-var-dtype'>float32</div><div class='xr-var-preview xr-preview'>1.008e+03</div><input id='attrs-f978f8be-ea4b-43d8-97bd-89d2e36b7537' class='xr-var-attrs-in' type='checkbox' ><label for='attrs-f978f8be-ea4b-43d8-97bd-89d2e36b7537' title='Show/Hide attributes'><svg class='icon xr-icon-file-text2'><use xlink:href='#icon-file-text2'></use></svg></label><input id='data-e3e1362a-b869-4ca2-9525-01b195914b2d' class='xr-var-data-in' type='checkbox'><label for='data-e3e1362a-b869-4ca2-9525-01b195914b2d' title='Show/Hide data repr'><svg class='icon xr-icon-database'><use xlink:href='#icon-database'></use></svg></label><div class='xr-var-attrs'><dl class='xr-attrs'><dt><span>long_name :</span></dt><dd>Range from antenna to the center of each range gate</dd><dt><span>units :</span></dt><dd>m</dd></dl></div><div class='xr-var-data'><pre>array(1008., dtype=float32)</pre></div></li><li class='xr-var-item'><div class='xr-var-name'><span class='xr-has-index'>doppler</span></div><div class='xr-var-dims'>(doppler)</div><div class='xr-var-dtype'>float64</div><div class='xr-var-preview xr-preview'>-2.0 -1.99 -1.98 ... 0.47 0.48 0.49</div><input id='attrs-f8a6b801-2742-4e99-a78b-c5940915915e' class='xr-var-attrs-in' type='checkbox' disabled><label for='attrs-f8a6b801-2742-4e99-a78b-c5940915915e' title='Show/Hide attributes'><svg class='icon xr-icon-file-text2'><use xlink:href='#icon-file-text2'></use></svg></label><input id='data-2bb463c5-35c1-4af3-b424-39532c022054' class='xr-var-data-in' type='checkbox'><label for='data-2bb463c5-35c1-4af3-b424-39532c022054' title='Show/Hide data repr'><svg class='icon xr-icon-database'><use xlink:href='#icon-database'></use></svg></label><div class='xr-var-attrs'><dl class='xr-attrs'></dl></div><div class='xr-var-data'><pre>array([-2.  , -1.99, -1.98, ...,  0.47,  0.48,  0.49])</pre></div></li></ul></div></li><li class='xr-section-item'><input id='section-5341e3ef-ab11-43d3-8a87-aed70c11f977' class='xr-section-summary-in' type='checkbox'  checked><label for='section-5341e3ef-ab11-43d3-8a87-aed70c11f977' class='xr-section-summary' >Data variables: <span>(8)</span></label><div class='xr-section-inline-details'></div><div class='xr-section-details'><ul class='xr-var-list'><li class='xr-var-item'><div class='xr-var-name'><span>WSpecH</span></div><div class='xr-var-dims'>(doppler)</div><div class='xr-var-dtype'>float64</div><div class='xr-var-preview xr-preview'>...</div><input id='attrs-29b57ab6-da20-4df8-8b21-1d09b20d6ec2' class='xr-var-attrs-in' type='checkbox' disabled><label for='attrs-29b57ab6-da20-4df8-8b21-1d09b20d6ec2' title='Show/Hide attributes'><svg class='icon xr-icon-file-text2'><use xlink:href='#icon-file-text2'></use></svg></label><input id='data-8f88190a-9765-4ced-ab5f-f4beb2f540da' class='xr-var-data-in' type='checkbox'><label for='data-8f88190a-9765-4ced-ab5f-f4beb2f540da' title='Show/Hide data repr'><svg class='icon xr-icon-database'><use xlink:href='#icon-database'></use></svg></label><div class='xr-var-attrs'><dl class='xr-attrs'></dl></div><div class='xr-var-data'><pre>array([-50.308724, -50.235518, -50.124452, ...,        nan,        nan,\n",
       "              nan])</pre></div></li><li class='xr-var-item'><div class='xr-var-name'><span>KaSpecH</span></div><div class='xr-var-dims'>(doppler)</div><div class='xr-var-dtype'>float64</div><div class='xr-var-preview xr-preview'>...</div><input id='attrs-f618a65d-42e8-4b47-9616-8799bffc647f' class='xr-var-attrs-in' type='checkbox' disabled><label for='attrs-f618a65d-42e8-4b47-9616-8799bffc647f' title='Show/Hide attributes'><svg class='icon xr-icon-file-text2'><use xlink:href='#icon-file-text2'></use></svg></label><input id='data-981b5b0c-0ae4-49a3-9c7c-39e0772d382e' class='xr-var-data-in' type='checkbox'><label for='data-981b5b0c-0ae4-49a3-9c7c-39e0772d382e' title='Show/Hide data repr'><svg class='icon xr-icon-database'><use xlink:href='#icon-database'></use></svg></label><div class='xr-var-attrs'><dl class='xr-attrs'></dl></div><div class='xr-var-data'><pre>array([-44.759999, -44.708751, -44.663833, ...,        nan,        nan,\n",
       "              nan])</pre></div></li><li class='xr-var-item'><div class='xr-var-name'><span>XSpecH</span></div><div class='xr-var-dims'>(doppler)</div><div class='xr-var-dtype'>float64</div><div class='xr-var-preview xr-preview'>...</div><input id='attrs-cdf1704a-7d8c-43d0-aadd-8b5b7fe5c9bf' class='xr-var-attrs-in' type='checkbox' disabled><label for='attrs-cdf1704a-7d8c-43d0-aadd-8b5b7fe5c9bf' title='Show/Hide attributes'><svg class='icon xr-icon-file-text2'><use xlink:href='#icon-file-text2'></use></svg></label><input id='data-5703ed57-4677-4256-8a1e-ad994372bd49' class='xr-var-data-in' type='checkbox'><label for='data-5703ed57-4677-4256-8a1e-ad994372bd49' title='Show/Hide data repr'><svg class='icon xr-icon-database'><use xlink:href='#icon-database'></use></svg></label><div class='xr-var-attrs'><dl class='xr-attrs'></dl></div><div class='xr-var-data'><pre>array([-41.16682, -41.16682, -41.16682, ...,       nan,       nan,       nan])</pre></div></li><li class='xr-var-item'><div class='xr-var-name'><span>pa</span></div><div class='xr-var-dims'>()</div><div class='xr-var-dtype'>float32</div><div class='xr-var-preview xr-preview'>...</div><input id='attrs-fb1e7006-6cc4-4f8c-a333-ce10b8f5d426' class='xr-var-attrs-in' type='checkbox' disabled><label for='attrs-fb1e7006-6cc4-4f8c-a333-ce10b8f5d426' title='Show/Hide attributes'><svg class='icon xr-icon-file-text2'><use xlink:href='#icon-file-text2'></use></svg></label><input id='data-52a381f9-d071-4e8b-88a0-2bc6335034ca' class='xr-var-data-in' type='checkbox'><label for='data-52a381f9-d071-4e8b-88a0-2bc6335034ca' title='Show/Hide data repr'><svg class='icon xr-icon-database'><use xlink:href='#icon-database'></use></svg></label><div class='xr-var-attrs'><dl class='xr-attrs'></dl></div><div class='xr-var-data'><pre>array(87148.9, dtype=float32)</pre></div></li><li class='xr-var-item'><div class='xr-var-name'><span>XSpecHspecNoise</span></div><div class='xr-var-dims'>()</div><div class='xr-var-dtype'>float32</div><div class='xr-var-preview xr-preview'>...</div><input id='attrs-94f123ce-5ea4-42f0-a138-8ce44b9875c7' class='xr-var-attrs-in' type='checkbox' disabled><label for='attrs-94f123ce-5ea4-42f0-a138-8ce44b9875c7' title='Show/Hide attributes'><svg class='icon xr-icon-file-text2'><use xlink:href='#icon-file-text2'></use></svg></label><input id='data-78ea1be0-4f2c-4180-9b41-081228951d8f' class='xr-var-data-in' type='checkbox'><label for='data-78ea1be0-4f2c-4180-9b41-081228951d8f' title='Show/Hide data repr'><svg class='icon xr-icon-database'><use xlink:href='#icon-database'></use></svg></label><div class='xr-var-attrs'><dl class='xr-attrs'></dl></div><div class='xr-var-data'><pre>array(-46.731228, dtype=float32)</pre></div></li><li class='xr-var-item'><div class='xr-var-name'><span>KaSpecHspecNoise</span></div><div class='xr-var-dims'>()</div><div class='xr-var-dtype'>float32</div><div class='xr-var-preview xr-preview'>...</div><input id='attrs-7f740511-5afb-4fb5-afbf-b83b34ddf3e3' class='xr-var-attrs-in' type='checkbox' disabled><label for='attrs-7f740511-5afb-4fb5-afbf-b83b34ddf3e3' title='Show/Hide attributes'><svg class='icon xr-icon-file-text2'><use xlink:href='#icon-file-text2'></use></svg></label><input id='data-bc930701-9e39-476b-b86a-3aaaef59bc53' class='xr-var-data-in' type='checkbox'><label for='data-bc930701-9e39-476b-b86a-3aaaef59bc53' title='Show/Hide data repr'><svg class='icon xr-icon-database'><use xlink:href='#icon-database'></use></svg></label><div class='xr-var-attrs'><dl class='xr-attrs'></dl></div><div class='xr-var-data'><pre>array(-46.62657, dtype=float32)</pre></div></li><li class='xr-var-item'><div class='xr-var-name'><span>DWR_X_Ka</span></div><div class='xr-var-dims'>(doppler)</div><div class='xr-var-dtype'>float64</div><div class='xr-var-preview xr-preview'>...</div><input id='attrs-23e98448-9de5-4b3d-9ec0-a371646b74ed' class='xr-var-attrs-in' type='checkbox' disabled><label for='attrs-23e98448-9de5-4b3d-9ec0-a371646b74ed' title='Show/Hide attributes'><svg class='icon xr-icon-file-text2'><use xlink:href='#icon-file-text2'></use></svg></label><input id='data-eea5953d-53d3-46e4-803f-bea7f6e13295' class='xr-var-data-in' type='checkbox'><label for='data-eea5953d-53d3-46e4-803f-bea7f6e13295' title='Show/Hide data repr'><svg class='icon xr-icon-database'><use xlink:href='#icon-database'></use></svg></label><div class='xr-var-attrs'><dl class='xr-attrs'></dl></div><div class='xr-var-data'><pre>array([3.593179, 3.541932, 3.497013, ...,      nan,      nan,      nan])</pre></div></li><li class='xr-var-item'><div class='xr-var-name'><span>DWR_Ka_W</span></div><div class='xr-var-dims'>(doppler)</div><div class='xr-var-dtype'>float64</div><div class='xr-var-preview xr-preview'>...</div><input id='attrs-9b1dc0de-04e0-467f-aa3b-60ddc716f420' class='xr-var-attrs-in' type='checkbox' disabled><label for='attrs-9b1dc0de-04e0-467f-aa3b-60ddc716f420' title='Show/Hide attributes'><svg class='icon xr-icon-file-text2'><use xlink:href='#icon-file-text2'></use></svg></label><input id='data-4202f6f7-78e3-4505-a966-5ea8978bd6be' class='xr-var-data-in' type='checkbox'><label for='data-4202f6f7-78e3-4505-a966-5ea8978bd6be' title='Show/Hide data repr'><svg class='icon xr-icon-database'><use xlink:href='#icon-database'></use></svg></label><div class='xr-var-attrs'><dl class='xr-attrs'></dl></div><div class='xr-var-data'><pre>array([5.548725, 5.526766, 5.460619, ...,      nan,      nan,      nan])</pre></div></li></ul></div></li><li class='xr-section-item'><input id='section-4191708f-52be-46d0-bd9f-3abaf136d73d' class='xr-section-summary-in' type='checkbox' disabled ><label for='section-4191708f-52be-46d0-bd9f-3abaf136d73d' class='xr-section-summary'  title='Expand/collapse section'>Attributes: <span>(0)</span></label><div class='xr-section-inline-details'></div><div class='xr-section-details'><dl class='xr-attrs'></dl></div></li></ul></div></div>"
      ],
      "text/plain": [
       "<xarray.Dataset>\n",
       "Dimensions:           (doppler: 250)\n",
       "Coordinates:\n",
       "    time              datetime64[ns] 2019-01-22T14:55:00\n",
       "    range             float32 1.008e+03\n",
       "  * doppler           (doppler) float64 -2.0 -1.99 -1.98 ... 0.47 0.48 0.49\n",
       "Data variables:\n",
       "    WSpecH            (doppler) float64 ...\n",
       "    KaSpecH           (doppler) float64 ...\n",
       "    XSpecH            (doppler) float64 ...\n",
       "    pa                float32 ...\n",
       "    XSpecHspecNoise   float32 ...\n",
       "    KaSpecHspecNoise  float32 ...\n",
       "    DWR_X_Ka          (doppler) float64 ...\n",
       "    DWR_Ka_W          (doppler) float64 ..."
      ]
     },
     "execution_count": 3,
     "metadata": {},
     "output_type": "execute_result"
    }
   ],
   "source": [
    "SpecSingle"
   ]
  },
  {
   "cell_type": "markdown",
   "metadata": {},
   "source": [
    "### plot the sample spectrum"
   ]
  },
  {
   "cell_type": "code",
   "execution_count": 4,
   "metadata": {},
   "outputs": [
    {
     "data": {
      "image/png": "[encoded data removed]",
      "text/plain": [
       "<Figure size 432x288 with 1 Axes>"
      ]
     },
     "metadata": {
      "needs_background": "light"
     },
     "output_type": "display_data"
    }
   ],
   "source": [
    "fig,ax = plt.subplots(nrows=1,ncols=1)\n",
    "ax = pl.plotObsSpectra(SpecSingle,ax)"
   ]
  },
  {
   "cell_type": "markdown",
   "metadata": {},
   "source": [
    "## 1. Calculate spectral DWR"
   ]
  },
  {
   "cell_type": "code",
   "execution_count": 5,
   "metadata": {},
   "outputs": [
    {
     "data": {
      "image/png": "[encoded data removed]",
      "text/plain": [
       "<Figure size 432x288 with 1 Axes>"
      ]
     },
     "metadata": {
      "needs_background": "light"
     },
     "output_type": "display_data"
    }
   ],
   "source": [
    "DWRkey=\"DWR_X_Ka\"\n",
    "fig,ax = plt.subplots(nrows=1,ncols=1)\n",
    "ax = pl.plotSpectralDWR(SpecSingle[DWRkey],ax)"
   ]
  },
  {
   "cell_type": "markdown",
   "metadata": {},
   "source": [
    "## 2. Get Dmax from sDWR taking predefined scattering properties from snowScatt\n",
    "### 2.1 get unambiguous DWR-Dmax"
   ]
  },
  {
   "cell_type": "code",
   "execution_count": 6,
   "metadata": {},
   "outputs": [
    {
     "name": "stdout",
     "output_type": "stream",
     "text": [
      "print the information content in the database\n",
      "\n",
      "##  List of AVERAGE properties\n",
      "\n",
      "Name:  HW14\n",
      "{'kappa': 0.19, 'beta': 0.23, 'gamma': 1.6666666666666667, 'zeta1': 1.0, 'aspect': 0.6, 'ar_mono': 1.0, 'am': 0.015, 'bm': 2.08, 'aa': nan, 'ba': nan}\n",
      "Hogan and Westbrook 2014 aggregates of bullett rosettes\n",
      "\n",
      "Name:  LS15A0.0\n",
      "{'kappa': 0.189177, 'beta': 3.06939, 'gamma': 2.53192, 'zeta1': 0.0709529, 'aspect': 0.6, 'ar_mono': 0.3, 'am': 0.015, 'bm': 2.08, 'aa': nan, 'ba': nan}\n",
      "Leinonen 2015 unrimed aggregates of dendrites\n",
      "\n",
      "Name:  Oea14\n",
      "{'kappa': 0.190031, 'beta': 0.030681461, 'gamma': 1.3002167, 'zeta1': 0.29466184, 'aspect': 0.9, 'ar_mono': 5.0, 'am': 0.157, 'bm': 2.1, 'aa': nan, 'ba': nan}\n",
      "Ori 2014 assemblages of columns\n",
      "\n",
      "##  List of tabulated size resolved properties\n",
      "\n",
      "Name:  Leinonen15tabA00\n",
      "Table of Leinonen unrimed snowflakes\n",
      "Filepath : /home/mkarrer/.local/lib/python3.8/site-packages/snowScatt/snowProperties/ssrga_coeffs_simultaneous_0.0.csv\n",
      "\n",
      "Name:  Leinonen15tabB00\n",
      "Table of Leinonen unrimed snowflakes\n",
      "Filepath : /home/mkarrer/.local/lib/python3.8/site-packages/snowScatt/snowProperties/ssrga_coeffs_simultaneous_0.0.csv\n",
      "\n",
      "Name:  Leinonen15tabA01\n",
      "Table of Leinonen rimed snowflakes ELWP=0.1 model A simultaneous\n",
      "Filepath : /home/mkarrer/.local/lib/python3.8/site-packages/snowScatt/snowProperties/ssrga_coeffs_simultaneous_0.1.csv\n",
      "\n",
      "Name:  Leinonen15tabA02\n",
      "Table of Leinonen rimed snowflakes ELWP=0.2 model A simultaneous\n",
      "Filepath : /home/mkarrer/.local/lib/python3.8/site-packages/snowScatt/snowProperties/ssrga_coeffs_simultaneous_0.2.csv\n",
      "\n",
      "Name:  Leinonen15tabA05\n",
      "Table of Leinonen rimed snowflakes ELWP=0.5 model A simultaneous\n",
      "Filepath : /home/mkarrer/.local/lib/python3.8/site-packages/snowScatt/snowProperties/ssrga_coeffs_simultaneous_0.5.csv\n",
      "\n",
      "Name:  Leinonen15tabA10\n",
      "Table of Leinonen rimed snowflakes ELWP=1.0 model A simultaneous\n",
      "Filepath : /home/mkarrer/.local/lib/python3.8/site-packages/snowScatt/snowProperties/ssrga_coeffs_simultaneous_1.0.csv\n",
      "\n",
      "Name:  Leinonen15tabA20\n",
      "Table of Leinonen rimed snowflakes ELWP=2.0 model A simultaneous\n",
      "Filepath : /home/mkarrer/.local/lib/python3.8/site-packages/snowScatt/snowProperties/ssrga_coeffs_simultaneous_2.0.csv\n",
      "\n",
      "Name:  Leinonen15tabB01\n",
      "Table of Leinonen rimed snowflakes ELWP=0.1 model B subsequent\n",
      "Filepath : /home/mkarrer/.local/lib/python3.8/site-packages/snowScatt/snowProperties/ssrga_coeffs_subsequent_0.1.csv\n",
      "\n",
      "Name:  Leinonen15tabB02\n",
      "Table of Leinonen rimed snowflakes ELWP=0.2 model B subsequent\n",
      "Filepath : /home/mkarrer/.local/lib/python3.8/site-packages/snowScatt/snowProperties/ssrga_coeffs_subsequent_0.2.csv\n",
      "\n",
      "Name:  Leinonen15tabB05\n",
      "Table of Leinonen rimed snowflakes ELWP=0.5 model B subsequent\n",
      "Filepath : /home/mkarrer/.local/lib/python3.8/site-packages/snowScatt/snowProperties/ssrga_coeffs_subsequent_0.5.csv\n",
      "\n",
      "Name:  Leinonen15tabB10\n",
      "Table of Leinonen rimed snowflakes ELWP=1.0 model B subsequent\n",
      "Filepath : /home/mkarrer/.local/lib/python3.8/site-packages/snowScatt/snowProperties/ssrga_coeffs_subsequent_1.0.csv\n",
      "\n",
      "Name:  Leinonen15tabB20\n",
      "Table of Leinonen rimed snowflakes ELWP=2.0 model B subsequent\n",
      "Filepath : /home/mkarrer/.local/lib/python3.8/site-packages/snowScatt/snowProperties/ssrga_coeffs_subsequent_2.0.csv\n",
      "\n",
      "Name:  Leinonen15tabC\n",
      "Table of Leinonen rime only graupel\n",
      "Filepath : /home/mkarrer/.local/lib/python3.8/site-packages/snowScatt/snowProperties/ssrga_coeffs_rimec.csv\n",
      "\n",
      "Name:  vonTerzi_dendrite\n",
      "Table of von Terzi assemblages of dendrites\n",
      "Filepath : /home/mkarrer/.local/lib/python3.8/site-packages/snowScatt/snowProperties/ssrga_coeffs_dendrite.csv\n",
      "\n",
      "Name:  vonTerzi_column\n",
      "Table of von Terzi assemblages of columns\n",
      "Filepath : /home/mkarrer/.local/lib/python3.8/site-packages/snowScatt/snowProperties/ssrga_coeffs_column.csv\n",
      "\n",
      "Name:  vonTerzi_plate\n",
      "Table of von Terzi assemblages of plates\n",
      "Filepath : /home/mkarrer/.local/lib/python3.8/site-packages/snowScatt/snowProperties/ssrga_coeffs_plate.csv\n",
      "\n",
      "Name:  vonTerzi_needle\n",
      "Table of von Terzi assemblages of needles\n",
      "Filepath : /home/mkarrer/.local/lib/python3.8/site-packages/snowScatt/snowProperties/ssrga_coeffs_needle.csv\n",
      "\n",
      "Name:  vonTerzi_mixcoldend\n",
      "Table of von Terzi assemblages of mixtures of columns and dendrites\n",
      "Filepath : /home/mkarrer/.local/lib/python3.8/site-packages/snowScatt/snowProperties/ssrga_coeffs_mixcolumndend.csv\n",
      "\n",
      "Name:  vonTerzi_mixcoldend_rimed01\n",
      "Table of von Terzi assemblages of mixtures of columns and dendrites with rimeelwp 0.1\n",
      "Filepath : /home/mkarrer/.local/lib/python3.8/site-packages/snowScatt/snowProperties/ssrga_coeffs_mixcolumndend_rimed_0.1.csv\n",
      "\n",
      "Name:  vonTerzi_mixcoldend_rimed02\n",
      "Table of von Terzi assemblages of mixtures of columns and dendrites with rimeelwp 0.2\n",
      "Filepath : /home/mkarrer/.local/lib/python3.8/site-packages/snowScatt/snowProperties/ssrga_coeffs_mixcolumndend_rimed_0.2.csv\n",
      "\n",
      "Name:  vonTerzi_mixcoldend_rimed03\n",
      "Table of von Terzi assemblages of mixtures of columns and dendrites with rimeelwp 0.3\n",
      "Filepath : /home/mkarrer/.local/lib/python3.8/site-packages/snowScatt/snowProperties/ssrga_coeffs_mixcolumndend_rimed_0.3.csv\n",
      "\n",
      "Name:  vonTerzi_mixcoldend_rimed04\n",
      "Table of von Terzi assemblages of mixtures of columns and dendrites with rimeelwp 0.4\n",
      "Filepath : /home/mkarrer/.local/lib/python3.8/site-packages/snowScatt/snowProperties/ssrga_coeffs_mixcolumndend_rimed_0.4.csv\n",
      "\n",
      "Name:  vonTerzi_mixcoldend_rimed05\n",
      "Table of von Terzi assemblages of mixtures of columns and dendrites with rimeelwp 0.5\n",
      "Filepath : /home/mkarrer/.local/lib/python3.8/site-packages/snowScatt/snowProperties/ssrga_coeffs_mixcolumndend_rimed_0.5.csv\n",
      "\n",
      "Name:  vonTerzi_mixcoldend_rimed06\n",
      "Table of von Terzi assemblages of mixtures of columns and dendrites with rimeelwp 0.6\n",
      "Filepath : /home/mkarrer/.local/lib/python3.8/site-packages/snowScatt/snowProperties/ssrga_coeffs_mixcolumndend_rimed_0.6.csv\n",
      "\n",
      "Name:  vonTerzi_mixcoldend_rimed07\n",
      "Table of von Terzi assemblages of mixtures of columns and dendrites with rimeelwp 0.7\n",
      "Filepath : /home/mkarrer/.local/lib/python3.8/site-packages/snowScatt/snowProperties/ssrga_coeffs_mixcolumndend_rimed_0.7.csv\n",
      "\n",
      "Name:  vonTerzi_mixcoldend_rimed08\n",
      "Table of von Terzi assemblages of mixtures of columns and dendrites with rimeelwp 0.8\n",
      "Filepath : /home/mkarrer/.local/lib/python3.8/site-packages/snowScatt/snowProperties/ssrga_coeffs_mixcolumndend_rimed_0.8.csv\n",
      "\n",
      "Name:  vonTerzi_mixcoldend_rimed09\n",
      "Table of von Terzi assemblages of mixtures of columns and dendrites with rimeelwp 0.9\n",
      "Filepath : /home/mkarrer/.local/lib/python3.8/site-packages/snowScatt/snowProperties/ssrga_coeffs_mixcolumndend_rimed_0.9.csv\n",
      "\n",
      "Name:  vonTerzi_mixcoldend_rimed10\n",
      "Table of von Terzi assemblages of mixtures of columns and dendrites with rimeelwp 1.0\n",
      "Filepath : /home/mkarrer/.local/lib/python3.8/site-packages/snowScatt/snowProperties/ssrga_coeffs_mixcolumndend_rimed_1.0.csv\n",
      "\n",
      "Name:  Ori_collColumns\n",
      "Table of Davide Ori aggregates of collection of columns\n",
      "Filepath : /home/mkarrer/.local/lib/python3.8/site-packages/snowScatt/snowProperties/ssrga_coeffs_Ori_collection_columns.csv\n",
      "\n",
      "\n",
      "\n",
      "######################################\n",
      "This is the content of all sections of the database\n",
      "You can pass the argument section=[\"all\", \"avg\", \"tables\"] to restrict the output to a certain section\n"
     ]
    }
   ],
   "source": [
    "snowScatt.snowLibrary.info() #use this line to show available particle types\n"
   ]
  },
  {
   "cell_type": "code",
   "execution_count": 7,
   "metadata": {},
   "outputs": [
    {
     "name": "stdout",
     "output_type": "stream",
     "text": [
      "DmaxRetr 10.0 DmaxAtDWRmax 9.797448724362182 DWRmin 13.528055501049902\n"
     ]
    },
    {
     "data": {
      "image/png": "[encoded data removed]",
      "text/plain": [
       "<Figure size 432x288 with 1 Axes>"
      ]
     },
     "metadata": {
      "needs_background": "light"
     },
     "output_type": "display_data"
    }
   ],
   "source": [
    "particleType = \"vonTerzi_mixcoldend\" #select a particle type\n",
    "\n",
    "DWRxk,DWRkw,Dmax = sc.getDWRs(particleType,Dmax=np.linspace(0.3e-3, 50.0e-3, 2000),Kfreq=\"Ka\") #get DWR(Dmax) relations from snowScatt\n",
    "if DWRkey==\"DWR_Ka_W\":\n",
    "    DWR = DWRkw\n",
    "    DmaxRetr = 5e-3 #[m] maximum size considered in retrieval; this inexplicitly assumes that larger particles are not relevant\n",
    "elif DWRkey==\"DWR_X_Ka\":\n",
    "    DWR = DWRxk\n",
    "    DmaxRetr = 1e-2 #[m] maximum size considered in retrieval; this inexplicitly assumes that larger particles are not relevant\n",
    "\n",
    "DWRlowDetect = 1 #[dB] DWRs smaller than this are disregarded (detection limit)\n",
    "\n",
    "fig,ax = plt.subplots(nrows=1,ncols=1)\n",
    "DWRUnamb,ax = sc.getUnambigousDWRdmax(Dmax,DWR,DmaxRetr=DmaxRetr,DWRlowDetect=DWRlowDetect,showIllus=True,ax=ax) #get Unambiguous DWR-Dmax relation"
   ]
  },
  {
   "cell_type": "markdown",
   "metadata": {},
   "source": [
    "## 3. get Dmax from sDWR at each velocity bin"
   ]
  },
  {
   "cell_type": "code",
   "execution_count": 8,
   "metadata": {},
   "outputs": [
    {
     "data": {
      "image/png": "[encoded data removed]",
      "text/plain": [
       "<Figure size 432x288 with 1 Axes>"
      ]
     },
     "metadata": {
      "needs_background": "light"
     },
     "output_type": "display_data"
    }
   ],
   "source": [
    "DmaxfromDWR = rU.getDmaxFromSDWR(SpecSingle[DWRkey],DWRUnamb,Dmax,showIllus=True,ax=None)"
   ]
  },
  {
   "cell_type": "markdown",
   "metadata": {},
   "source": [
    "## 4. get mass from Dmax and the selected particle type"
   ]
  },
  {
   "cell_type": "code",
   "execution_count": 9,
   "metadata": {},
   "outputs": [],
   "source": [
    "#get array of masses from the database #TODO: this is not really necessary because snowScatt selects the consistent m(D) anyway in \"sc.model3fOne\"\n",
    "mass, __, __ = snowScatt.snowMassVelocityArea(DmaxfromDWR, particleType)"
   ]
  },
  {
   "cell_type": "code",
   "execution_count": 10,
   "metadata": {},
   "outputs": [
    {
     "data": {
      "text/plain": [
       "Text(0, 0.5, 'm [kg]')"
      ]
     },
     "execution_count": 10,
     "metadata": {},
     "output_type": "execute_result"
    },
    {
     "data": {
      "image/png": "[encoded data removed]",
      "text/plain": [
       "<Figure size 432x288 with 1 Axes>"
      ]
     },
     "metadata": {
      "needs_background": "light"
     },
     "output_type": "display_data"
    }
   ],
   "source": [
    "fig,ax = plt.subplots(nrows=1,ncols=1)\n",
    "ax.semilogy(-SpecSingle[DWRkey].doppler,mass)\n",
    "ax.set_xlabel(\"DV [m/s]\")\n",
    "ax.set_ylabel(\"m [kg]\")"
   ]
  },
  {
   "cell_type": "markdown",
   "metadata": {},
   "source": [
    "## 5. get the single particle reflectivity"
   ]
  },
  {
   "cell_type": "code",
   "execution_count": 11,
   "metadata": {},
   "outputs": [],
   "source": [
    "ZkOne = sc.getSinglePartRefl(particleType,DmaxfromDWR,freq=\"k\")"
   ]
  },
  {
   "cell_type": "markdown",
   "metadata": {},
   "source": [
    "## 6. divide the observed z (power at a specific DV) by Zone to get the number concentration N"
   ]
  },
  {
   "cell_type": "code",
   "execution_count": 12,
   "metadata": {},
   "outputs": [
    {
     "data": {
      "image/png": "[encoded data removed]",
      "text/plain": [
       "<Figure size 432x288 with 1 Axes>"
      ]
     },
     "metadata": {
      "needs_background": "light"
     },
     "output_type": "display_data"
    }
   ],
   "source": [
    "fig,ax = plt.subplots(nrows=1,ncols=1)\n",
    "Nnorm,ax = rU.calcNumberConcFromSpectrumAndZOne(SpecSingle.KaSpecH,ZkOne,showIllus=True,ax=ax)"
   ]
  },
  {
   "cell_type": "markdown",
   "metadata": {},
   "source": [
    "# get dV/dD to transform from N(DV) to N(Dmax) space"
   ]
  },
  {
   "cell_type": "code",
   "execution_count": 14,
   "metadata": {},
   "outputs": [
    {
     "name": "stderr",
     "output_type": "stream",
     "text": [
      "/home/mkarrer/.local/lib/python3.8/site-packages/PSDretrieval/retrievalUtils.py:147: RuntimeWarning: invalid value encountered in greater\n",
      "  yedgeDmaxValid              = yedgeDmax[yedgeDmax>0] #remove nans from yedgeDmax\n"
     ]
    },
    {
     "name": "stdout",
     "output_type": "stream",
     "text": [
      "(31,) (20,) (30, 20)\n",
      "7.64828404998711 0.36400821581527837\n"
     ]
    },
    {
     "data": {
      "image/png": "[encoded data removed]",
      "text/plain": [
       "<Figure size 720x360 with 4 Axes>"
      ]
     },
     "metadata": {
      "needs_background": "light"
     },
     "output_type": "display_data"
    }
   ],
   "source": [
    "fig,ax = plt.subplots(figsize=(10,5),nrows=1,ncols=3)\n",
    "ax,hist,xedge,yedge = rU.histDWRandDmaxVsDv(SpecWindow[DWRkey],SpecWindow.KaSpecH,SpecWindow.KaSpecHspecNoise,DWRUnamb,Dmax,aboveNoiseThreshold=15,showIllus=True,ax=ax,fig=fig)"
   ]
  },
  {
   "cell_type": "code",
   "execution_count": 15,
   "metadata": {},
   "outputs": [],
   "source": [
    "#DWRUnamb,ax = sc.getUnambigousDWRdmax(Dmax,DWRkw,DmaxRetr=5e-3,DWRlowDetect=1,showIllus=True,ax=ax) #get Unambiguous DWR-Dmax relation\n",
    "#DmaxfromDWR = rU.getDmaxFromSDWR(SpecWindow[DWRkey],DWRUnamb,Dmax,showIllus=True,ax=None) #get Dmax fromDWR\n",
    "#print(DmaxfromDWR)"
   ]
  },
  {
   "cell_type": "code",
   "execution_count": 16,
   "metadata": {},
   "outputs": [
    {
     "data": {
      "text/plain": [
       "array([       nan,        nan,        nan,        nan,        nan,\n",
       "       0.00251276, 0.00308459, 0.00358184, 0.00415368, 0.00455148,\n",
       "       0.0048001 , 0.00509845, 0.0053968 , 0.00564542, 0.00589405,\n",
       "       0.00616753, 0.00644102, 0.00676423, 0.03548034, 0.04226778,\n",
       "       0.03088079, 0.00743552, 0.02854372, 0.02762381, 0.00867864,\n",
       "              nan,        nan,        nan,        nan,        nan,\n",
       "              nan])"
      ]
     },
     "execution_count": 16,
     "metadata": {},
     "output_type": "execute_result"
    }
   ],
   "source": [
    "rU.getDmaxFromSDWR(yedge,DWRUnamb,Dmax)"
   ]
  },
  {
   "cell_type": "code",
   "execution_count": 17,
   "metadata": {},
   "outputs": [
    {
     "data": {
      "text/plain": [
       "True"
      ]
     },
     "execution_count": 17,
     "metadata": {},
     "output_type": "execute_result"
    }
   ],
   "source": [
    "isinstance(yedge, np.ndarray)"
   ]
  },
  {
   "cell_type": "code",
   "execution_count": null,
   "metadata": {},
   "outputs": [],
   "source": []
  }
 ],
 "metadata": {
  "kernelspec": {
   "display_name": "Python 3",
   "language": "python",
   "name": "python3"
  },
  "language_info": {
   "codemirror_mode": {
    "name": "ipython",
    "version": 3
   },
   "file_extension": ".py",
   "mimetype": "text/x-python",
   "name": "python",
   "nbconvert_exporter": "python",
   "pygments_lexer": "ipython3",
   "version": "3.8.10"
  }
 },
 "nbformat": 4,
 "nbformat_minor": 4
}

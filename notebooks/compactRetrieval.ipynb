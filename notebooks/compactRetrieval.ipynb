{
 "cells": [
  {
   "cell_type": "markdown",
   "metadata": {},
   "source": [
    "# Only display the necessary steps of the retrieval\n",
    "### this can be used e.g. to find well matched spectra"
   ]
  },
  {
   "cell_type": "code",
   "execution_count": 1,
   "metadata": {},
   "outputs": [],
   "source": [
    "from PSDretrieval import processRadar as pR\n",
    "from PSDretrieval import plotting as pl\n",
    "from PSDretrieval import scattering as sc\n",
    "from PSDretrieval import retrievalUtils as rU\n",
    "import snowScatt\n",
    "import matplotlib.pyplot as plt\n",
    "import numpy as np\n",
    "import warnings\n",
    "warnings.filterwarnings('ignore')"
   ]
  },
  {
   "cell_type": "code",
   "execution_count": 2,
   "metadata": {},
   "outputs": [
    {
     "name": "stdout",
     "output_type": "stream",
     "text": [
      "load file:/data/obs/campaigns/tripex-pol/processed/\n",
      "merging datasets done\n",
      "load file:/data/obs/campaigns/tripex-pol/spectralPeaks/\n",
      "TODO: this lines should be checked with a time period with two peaks\n",
      "ERROR: cannot shift spectra because W cannot be determined (or is NaN for another reason)\n"
     ]
    },
    {
     "ename": "SystemExit",
     "evalue": "0",
     "output_type": "error",
     "traceback": [
      "An exception has occurred, use %tb to see the full traceback.\n",
      "\u001b[0;31mSystemExit\u001b[0m\u001b[0;31m:\u001b[0m 0\n"
     ]
    }
   ],
   "source": [
    "##load data\n",
    "#define time\n",
    "date = \"20190113\"\n",
    "time = \"06:18:04\"\n",
    "hcenter=2000 #[m]\n",
    "#load data (this is a window of time and height, which can define by additional input parameters)\n",
    "SpecWindow  = pR.loadSpectra(loadSample=False,dataPath=\"/data/obs/campaigns/tripex-pol/processed/\",createSample=True,date=date,time=time,tRange=1,hRange=180,hcenter=hcenter)\n",
    "#load the Spectral Window\n",
    "PeaksWindow  = pR.loadPeaks(loadSample=False,dataPath=\"/data/obs/campaigns/tripex-pol/spectralPeaks/\",createSample=True,date=date,time=time,tRange=1,hRange=180,hcenter=hcenter)\n",
    "#load the single spectra\n",
    "SpecSingle  = pR.selectSingleTimeHeight(SpecWindow)\n",
    "\n",
    "##get vertical wind information from the Spectral data\n",
    "SpecWindow = pR.addVerticalWindToSpecWindow(SpecWindow,PeaksWindow)\n",
    "SpecSingle  = pR.selectSingleTimeHeight(SpecWindow)\n",
    "SpecSingleWshifted  = pR.shiftSpectra(SpecSingle)\n",
    "\n",
    "##plot spectra\n",
    "fig,ax = plt.subplots(nrows=1,ncols=1,figsize=(15,10))\n",
    "ax = pl.plotObsSpectra(SpecSingleWshifted,ax)\n",
    "\n",
    "##find best fitting particle type\n",
    "#get names of all particle types\n",
    "ParticleTypesList    = [*snowScatt.snowLibrary._fileList.keys()] #read https://www.python.org/dev/peps/pep-0448/ for the [*...] formalism\n",
    "#ParticleTypesList   = [\"vonTerzi_mixcoldend\",\"vonTerzi_mixcoldend_rimed05\"]\n",
    "#find best fitting particle type\n",
    "[bestPartType,orderedListPartType] = rU.findBestFittingPartType(ParticleTypesList,SpecWindow)\n",
    "\n",
    "##plot sDWR vs DV for best fitting particle type\n",
    "fig2,axes2 = plt.subplots(nrows=1,ncols=2,figsize=(20,10))\n",
    "SpecWindow = pR.cutLowZe(SpecWindow,zeThreshold=-20)\n",
    "__ = pl.plotSDWRvsDVobs(SpecWindow,axes2)\n",
    "#calculate single-particle properties from snowScatt model\n",
    "Zx, Zk, Zw, Dmax, K2, vel = sc.model3fOne(bestPartType)\n",
    "DWRxk = Zx - Zk; DWRkw = Zk - Zw\n",
    "axes2 = pl.plotSDWRvsDVmodel(vel,DWRxk,DWRkw,axes2,bestPartType)"
   ]
  },
  {
   "cell_type": "code",
   "execution_count": null,
   "metadata": {},
   "outputs": [],
   "source": []
  }
 ],
 "metadata": {
  "kernelspec": {
   "display_name": "Python 3",
   "language": "python",
   "name": "python3"
  },
  "language_info": {
   "codemirror_mode": {
    "name": "ipython",
    "version": 3
   },
   "file_extension": ".py",
   "mimetype": "text/x-python",
   "name": "python",
   "nbconvert_exporter": "python",
   "pygments_lexer": "ipython3",
   "version": "3.8.10"
  }
 },
 "nbformat": 4,
 "nbformat_minor": 4
}
